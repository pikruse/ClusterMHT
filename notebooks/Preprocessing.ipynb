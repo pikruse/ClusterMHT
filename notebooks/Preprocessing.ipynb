{
 "cells": [
  {
   "cell_type": "code",
   "execution_count": 1,
   "metadata": {},
   "outputs": [],
   "source": [
    "# import packages\n",
    "import os, sys, glob\n",
    "import numpy as np\n",
    "import pandas as pd\n",
    "\n",
    "sys.path.append('../')"
   ]
  },
  {
   "cell_type": "code",
   "execution_count": 8,
   "metadata": {},
   "outputs": [
    {
     "data": {
      "text/html": [
       "<div>\n",
       "<style scoped>\n",
       "    .dataframe tbody tr th:only-of-type {\n",
       "        vertical-align: middle;\n",
       "    }\n",
       "\n",
       "    .dataframe tbody tr th {\n",
       "        vertical-align: top;\n",
       "    }\n",
       "\n",
       "    .dataframe thead th {\n",
       "        text-align: right;\n",
       "    }\n",
       "</style>\n",
       "<table border=\"1\" class=\"dataframe\">\n",
       "  <thead>\n",
       "    <tr style=\"text-align: right;\">\n",
       "      <th></th>\n",
       "      <th>name</th>\n",
       "      <th>sequence</th>\n",
       "    </tr>\n",
       "  </thead>\n",
       "  <tbody>\n",
       "    <tr>\n",
       "      <th>0</th>\n",
       "      <td>&gt;3LCC_1|Chain</td>\n",
       "      <td>MAEEQQNSDQSNGGNVIPTPEEVATFLHKTVEEGGWEKCWEEEITP...</td>\n",
       "    </tr>\n",
       "    <tr>\n",
       "      <th>1</th>\n",
       "      <td>&gt;Arabidopsis_thaliana_1_</td>\n",
       "      <td>MAEEQQNSSYSIGGNILPTPEEAATFQPQVVAEGGWDKCWEDGVTP...</td>\n",
       "    </tr>\n",
       "    <tr>\n",
       "      <th>2</th>\n",
       "      <td>&gt;XP_023640711.1</td>\n",
       "      <td>MAEEQQHSSGYSSGGNVIPTPEEAATFQPQVVAEGGWDKCWEDKVT...</td>\n",
       "    </tr>\n",
       "    <tr>\n",
       "      <th>3</th>\n",
       "      <td>&gt;XP_010517973.1</td>\n",
       "      <td>MAEKQQSSNYSSGGNIIPTPEEAATFQPQVVAEGGWDKCWEDKVTP...</td>\n",
       "    </tr>\n",
       "    <tr>\n",
       "      <th>4</th>\n",
       "      <td>&gt;XP_019101055.1</td>\n",
       "      <td>MAEKQQSSGYSSGGNIIPTPEEAATFQPQVVAEGGWDKCWEDKVTP...</td>\n",
       "    </tr>\n",
       "  </tbody>\n",
       "</table>\n",
       "</div>"
      ],
      "text/plain": [
       "                       name                                           sequence\n",
       "0             >3LCC_1|Chain  MAEEQQNSDQSNGGNVIPTPEEVATFLHKTVEEGGWEKCWEEEITP...\n",
       "1  >Arabidopsis_thaliana_1_  MAEEQQNSSYSIGGNILPTPEEAATFQPQVVAEGGWDKCWEDGVTP...\n",
       "2           >XP_023640711.1  MAEEQQHSSGYSSGGNVIPTPEEAATFQPQVVAEGGWDKCWEDKVT...\n",
       "3           >XP_010517973.1  MAEKQQSSNYSSGGNIIPTPEEAATFQPQVVAEGGWDKCWEDKVTP...\n",
       "4           >XP_019101055.1  MAEKQQSSGYSSGGNIIPTPEEAATFQPQVVAEGGWDKCWEDKVTP..."
      ]
     },
     "execution_count": 8,
     "metadata": {},
     "output_type": "execute_result"
    }
   ],
   "source": [
    "# load data such that each row is a sample with one column for name and one for sequence\n",
    "def load_data(filepath):\n",
    "    with open(filepath, 'r') as f:\n",
    "        lines = f.readlines()\n",
    "        names = []\n",
    "        seqs = []\n",
    "        for i in range(0, len(lines), 2):\n",
    "            names.append(lines[i].strip())\n",
    "            seqs.append(lines[i+1].strip())\n",
    "    return pd.DataFrame({'name': names, 'sequence': seqs})\n",
    "\n",
    "seqs = load_data('../data/completeseq.oneline.filtered.170.to.300.txt')\n",
    "seqs.head()"
   ]
  },
  {
   "cell_type": "code",
   "execution_count": 12,
   "metadata": {},
   "outputs": [
    {
     "data": {
      "text/plain": [
       "21"
      ]
     },
     "execution_count": 12,
     "metadata": {},
     "output_type": "execute_result"
    }
   ],
   "source": [
    "# get list of unique amino acids\n",
    "amino_acids = list(set(''.join(seqs['sequence'])))\n",
    "amino_acids.sort()\n",
    "len(amino_acids)"
   ]
  },
  {
   "cell_type": "code",
   "execution_count": null,
   "metadata": {},
   "outputs": [],
   "source": [
    "# create a dictionary mapping amino acids to specific features\n",
    "# first, define features we want to include\n",
    "\n",
    "# 1. hydrophobicity (ordinal)\n",
    "hydrophobic = ['A', 'C', 'I', 'L', 'M', 'F', 'V', 'W'] # 0\n",
    "neutral = ['G', 'H', 'P', 'S', 'T', 'Y'] # 1\n",
    "hydrophilic = ['R', 'N', 'D', 'Q', 'E', 'K'] # 2\n",
    "\n",
    "# 2. volume (ordinal)\n",
    "very_small = [A, G, S] #0\n",
    "small = [N, D, C, P, T] #1\n",
    "medium = [Q, E, H, V] #2\n",
    "large = [R, I, L, K, M] #3\n",
    "very_large = [F, W, Y] #4\n",
    "\n",
    "# 3. chemical (arbitrary)\n",
    "aliphatic = [A, G, I, L, P, V]\n",
    "aromatic = [F, W, Y]\n",
    "sulfur = [C, M]\n",
    "hydroxyl = [S, T]\n",
    "basic = [R, H, K]\n",
    "acidic = [D, E]\n",
    "amide = [N, Q]\n",
    "\n",
    "# 4. charge (ordinal)\n",
    "positive = [R, H, K] #1\n",
    "negative = [D, E] #-1\n",
    "uncharged = [A, N, C, Q, G, I, L, M, F, P, S, T, W, Y, V] #0\n",
    "\n",
    "# 5. hydrogen donor/acceptor (arbitrary)\n",
    "donor = [R, K, W]\n",
    "acceptor = [D, E]\n",
    "both = [N, Q, H, S, T, Y]\n",
    "none = [A, C, G, I, L, M, F, P, V]\n",
    "\n",
    "# 6. polarity (ordinal)\n",
    "polar = [R, N, D, Q, E, H, K, S, T, Y] #1\n",
    "nonpolar = [A, C, G, I, L, M, F, P, W, V] #0\n",
    "``\n",
    "# allows us to map amino acids to features, creating a (num_samples, seq_length, num_features) tensor\n"
   ]
  },
  {
   "cell_type": "code",
   "execution_count": null,
   "metadata": {},
   "outputs": [],
   "source": [
    "# use a distance measure to compute pairwise distances between sequences (what if sequences are different lengths?)"
   ]
  }
 ],
 "metadata": {
  "kernelspec": {
   "display_name": "base",
   "language": "python",
   "name": "python3"
  },
  "language_info": {
   "codemirror_mode": {
    "name": "ipython",
    "version": 3
   },
   "file_extension": ".py",
   "mimetype": "text/x-python",
   "name": "python",
   "nbconvert_exporter": "python",
   "pygments_lexer": "ipython3",
   "version": "3.10.14"
  }
 },
 "nbformat": 4,
 "nbformat_minor": 2
}
