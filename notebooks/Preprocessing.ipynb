{
 "cells": [
  {
   "cell_type": "code",
   "execution_count": 1,
   "metadata": {},
   "outputs": [],
   "source": [
    "# import packages\n",
    "import os, sys, glob\n",
    "import numpy as np\n",
    "import pandas as pd\n",
    "import multiprocessing as mp\n",
    "\n",
    "from functools import partial\n",
    "\n",
    "sys.path.append('../')"
   ]
  },
  {
   "cell_type": "code",
   "execution_count": 2,
   "metadata": {},
   "outputs": [
    {
     "data": {
      "text/html": [
       "<div>\n",
       "<style scoped>\n",
       "    .dataframe tbody tr th:only-of-type {\n",
       "        vertical-align: middle;\n",
       "    }\n",
       "\n",
       "    .dataframe tbody tr th {\n",
       "        vertical-align: top;\n",
       "    }\n",
       "\n",
       "    .dataframe thead th {\n",
       "        text-align: right;\n",
       "    }\n",
       "</style>\n",
       "<table border=\"1\" class=\"dataframe\">\n",
       "  <thead>\n",
       "    <tr style=\"text-align: right;\">\n",
       "      <th></th>\n",
       "      <th>name</th>\n",
       "      <th>sequence</th>\n",
       "    </tr>\n",
       "  </thead>\n",
       "  <tbody>\n",
       "    <tr>\n",
       "      <th>0</th>\n",
       "      <td>&gt;3LCC_1|Chain</td>\n",
       "      <td>MAEEQQNSDQSNGGNVIPTPEEVATFLHKTVEEGGWEKCWEEEITP...</td>\n",
       "    </tr>\n",
       "    <tr>\n",
       "      <th>1</th>\n",
       "      <td>&gt;Arabidopsis_thaliana_1_</td>\n",
       "      <td>MAEEQQNSSYSIGGNILPTPEEAATFQPQVVAEGGWDKCWEDGVTP...</td>\n",
       "    </tr>\n",
       "    <tr>\n",
       "      <th>2</th>\n",
       "      <td>&gt;XP_023640711.1</td>\n",
       "      <td>MAEEQQHSSGYSSGGNVIPTPEEAATFQPQVVAEGGWDKCWEDKVT...</td>\n",
       "    </tr>\n",
       "    <tr>\n",
       "      <th>3</th>\n",
       "      <td>&gt;XP_010517973.1</td>\n",
       "      <td>MAEKQQSSNYSSGGNIIPTPEEAATFQPQVVAEGGWDKCWEDKVTP...</td>\n",
       "    </tr>\n",
       "    <tr>\n",
       "      <th>4</th>\n",
       "      <td>&gt;XP_019101055.1</td>\n",
       "      <td>MAEKQQSSGYSSGGNIIPTPEEAATFQPQVVAEGGWDKCWEDKVTP...</td>\n",
       "    </tr>\n",
       "  </tbody>\n",
       "</table>\n",
       "</div>"
      ],
      "text/plain": [
       "                       name                                           sequence\n",
       "0             >3LCC_1|Chain  MAEEQQNSDQSNGGNVIPTPEEVATFLHKTVEEGGWEKCWEEEITP...\n",
       "1  >Arabidopsis_thaliana_1_  MAEEQQNSSYSIGGNILPTPEEAATFQPQVVAEGGWDKCWEDGVTP...\n",
       "2           >XP_023640711.1  MAEEQQHSSGYSSGGNVIPTPEEAATFQPQVVAEGGWDKCWEDKVT...\n",
       "3           >XP_010517973.1  MAEKQQSSNYSSGGNIIPTPEEAATFQPQVVAEGGWDKCWEDKVTP...\n",
       "4           >XP_019101055.1  MAEKQQSSGYSSGGNIIPTPEEAATFQPQVVAEGGWDKCWEDKVTP..."
      ]
     },
     "execution_count": 2,
     "metadata": {},
     "output_type": "execute_result"
    }
   ],
   "source": [
    "# load data such that each row is a sample with one column for name and one for sequence\n",
    "def load_data(filepath):\n",
    "    with open(filepath, 'r') as f:\n",
    "        lines = f.readlines()\n",
    "        names = []\n",
    "        seqs = []\n",
    "        for i in range(0, len(lines), 2):\n",
    "            names.append(lines[i].strip())\n",
    "            seqs.append(lines[i+1].strip())\n",
    "    return pd.DataFrame({'name': names, 'sequence': seqs})\n",
    "\n",
    "seqs = load_data('../data/completeseq.oneline.filtered.170.to.300.txt')\n",
    "seqs.head()"
   ]
  },
  {
   "cell_type": "code",
   "execution_count": 3,
   "metadata": {},
   "outputs": [
    {
     "data": {
      "text/plain": [
       "array([171, 172, 173, 174, 175, 176, 177, 178, 179, 180, 181, 182, 183,\n",
       "       184, 185, 186, 187, 188, 189, 190, 191, 192, 193, 194, 195, 196,\n",
       "       197, 198, 199, 200, 201, 202, 203, 204, 205, 206, 207, 208, 209,\n",
       "       210, 211, 212, 213, 214, 215, 216, 217, 218, 219, 220, 221, 222,\n",
       "       223, 224, 225, 226, 227, 228, 229, 230, 231, 232, 233, 234, 235,\n",
       "       236, 237, 238, 239, 240, 241, 242, 243, 244, 245, 246, 247, 248,\n",
       "       249, 250, 251, 252, 253, 254, 255, 256, 257, 258, 259, 260, 261,\n",
       "       262, 263, 264, 265, 266, 267, 268, 269, 270, 271, 272, 273, 274,\n",
       "       275, 276, 277, 278, 279, 280, 281, 282, 283, 284, 285, 286, 287,\n",
       "       288, 289, 290, 291, 292, 293, 294, 295, 296, 297, 298, 299, 300])"
      ]
     },
     "execution_count": 3,
     "metadata": {},
     "output_type": "execute_result"
    }
   ],
   "source": [
    "# check sequence lengths\n",
    "np.unique(seqs['sequence'].apply(len))"
   ]
  },
  {
   "cell_type": "code",
   "execution_count": 4,
   "metadata": {},
   "outputs": [
    {
     "data": {
      "text/plain": [
       "21"
      ]
     },
     "execution_count": 4,
     "metadata": {},
     "output_type": "execute_result"
    }
   ],
   "source": [
    "# get list of unique amino acids\n",
    "amino_acids = list(set(''.join(seqs['sequence'])))\n",
    "amino_acids.sort()\n",
    "len(amino_acids)"
   ]
  },
  {
   "cell_type": "code",
   "execution_count": 5,
   "metadata": {},
   "outputs": [],
   "source": [
    "# create a dictionary mapping amino acids to specific features\n",
    "# first, define features we want to include\n",
    "\n",
    "# 1. hydrophobicity (ordinal)\n",
    "hydrophobic = ['A', 'C', 'I', 'L', 'M', 'F', 'V', 'W'] # 0\n",
    "neutral = ['G', 'H', 'P', 'S', 'T', 'Y'] # 1\n",
    "hydrophilic = ['R', 'N', 'D', 'Q', 'E', 'K'] # 2\n",
    "\n",
    "hydrophobicity = {0: hydrophobic, \n",
    "                  1: neutral, \n",
    "                  2: hydrophilic}\n",
    "\n",
    "# 2. volume (ordinal)\n",
    "very_small = ['A', 'G', 'S'] #0\n",
    "small = ['N', 'D', 'C', 'P', 'T'] #1\n",
    "medium = ['Q', 'E', 'H', 'V'] #2\n",
    "large = ['R', 'I', 'L', 'K', 'M'] #3\n",
    "very_large = ['F', 'W', 'Y'] #4\n",
    "\n",
    "volume = {0: very_small, \n",
    "          1: small, \n",
    "          2: medium, \n",
    "          3: large, \n",
    "          4: very_large}\n",
    "\n",
    "# 3. chemical (arbitrary)\n",
    "aliphatic = ['A', 'G', 'I', 'L', 'P', 'V']\n",
    "aromatic = ['F', 'W', 'Y']\n",
    "sulfur = ['C', 'M']\n",
    "hydroxyl = ['S', 'T']\n",
    "basic = ['R', 'H', 'K']\n",
    "acidic = ['D', 'E']\n",
    "amide = ['N', 'Q']\n",
    "\n",
    "chemical = {'aliphatic': aliphatic, \n",
    "            'aromatic': aromatic, \n",
    "            'sulfur': sulfur, \n",
    "            'hydroxyl': hydroxyl, \n",
    "            'basic': basic, \n",
    "            'acidic': acidic, \n",
    "            'amide': amide}\n",
    "\n",
    "# 4. charge (ordinal)\n",
    "positive = ['R', 'H', 'K'] #1\n",
    "negative = ['D', 'E'] #-1\n",
    "uncharged = ['A', 'N', 'C', 'Q', 'G', 'I', 'L', 'M', 'F', 'P', 'S', 'T', 'W', 'Y', 'V'] #0\n",
    "\n",
    "charge = {1: positive, \n",
    "          0: negative, \n",
    "          int(-1): uncharged}\n",
    "\n",
    "# 5. hydrogen donor/acceptor (arbitrary)\n",
    "donor = ['R', 'K', 'W']\n",
    "acceptor = ['D', 'E']\n",
    "both = ['N', 'Q', 'H', 'S', 'T', 'Y']\n",
    "none = ['A', 'C', 'G', 'I', 'L', 'M', 'F', 'P', 'V']\n",
    "\n",
    "hydrogen = {'d': donor, \n",
    "            'a': acceptor, \n",
    "            'b': both,\n",
    "            'n': none}\n",
    "\n",
    "# 6. polarity (ordinal)\n",
    "polar = ['R', 'N', 'D', 'Q', 'E', 'H', 'K', 'S', 'T', 'Y'] #1\n",
    "nonpolar = ['A', 'C', 'G', 'I', 'L', 'M', 'F', 'P', 'W', 'V'] #0\n",
    "\n",
    "polarity = {1: polar, \n",
    "            0: nonpolar}\n",
    "\n",
    "# allows us to map amino acids to features, creating a (num_samples, seq_length, num_features) tensor\n",
    "feature_list = [hydrophobicity, volume, chemical, charge, hydrogen, polarity]"
   ]
  },
  {
   "cell_type": "code",
   "execution_count": 6,
   "metadata": {},
   "outputs": [
    {
     "data": {
      "text/plain": [
       "{'A': [0, 0, 'aliphatic', -1, 'n', 0],\n",
       " 'C': [0, 1, 'sulfur', -1, 'n', 0],\n",
       " 'D': [2, 1, 'acidic', 0, 'a', 1],\n",
       " 'E': [2, 2, 'acidic', 0, 'a', 1],\n",
       " 'F': [0, 4, 'aromatic', -1, 'n', 0],\n",
       " 'G': [1, 0, 'aliphatic', -1, 'n', 0],\n",
       " 'H': [1, 2, 'basic', 1, 'b', 1],\n",
       " 'I': [0, 3, 'aliphatic', -1, 'n', 0],\n",
       " 'K': [2, 3, 'basic', 1, 'd', 1],\n",
       " 'L': [0, 3, 'aliphatic', -1, 'n', 0],\n",
       " 'M': [0, 3, 'sulfur', -1, 'n', 0],\n",
       " 'N': [2, 1, 'amide', -1, 'b', 1],\n",
       " 'P': [1, 1, 'aliphatic', -1, 'n', 0],\n",
       " 'Q': [2, 2, 'amide', -1, 'b', 1],\n",
       " 'R': [2, 3, 'basic', 1, 'd', 1],\n",
       " 'S': [1, 0, 'hydroxyl', -1, 'b', 1],\n",
       " 'T': [1, 1, 'hydroxyl', -1, 'b', 1],\n",
       " 'V': [0, 2, 'aliphatic', -1, 'n', 0],\n",
       " 'W': [0, 4, 'aromatic', -1, 'd', 0],\n",
       " 'X': ['NA', 'NA', 'NA', 'NA', 'NA', 'NA'],\n",
       " 'Y': [1, 4, 'aromatic', -1, 'b', 1]}"
      ]
     },
     "execution_count": 6,
     "metadata": {},
     "output_type": "execute_result"
    }
   ],
   "source": [
    "# create feature dictionary that contains the properties of each amino acid\n",
    "feature_dict = {}\n",
    "\n",
    "# loop through each amino acid and create a dictionary of features\n",
    "\n",
    "# loop through amino acids\n",
    "for aa in amino_acids:\n",
    "\n",
    "    # X is a placeholder for padding - it has no features\n",
    "    if aa == 'X':\n",
    "        features = ['NA', 'NA', 'NA', 'NA', 'NA', 'NA']\n",
    "        feature_dict[aa] = features\n",
    "    \n",
    "    else:\n",
    "        # make list of features for each amino acid\n",
    "        features = []\n",
    "\n",
    "        # loop through each feature\n",
    "        for feature in feature_list:\n",
    "\n",
    "            # loop through each key in the feature dictionary\n",
    "            for key, list in feature.items():\n",
    "                if aa in list:\n",
    "                    features.append(key)\n",
    "        feature_dict[aa] = features\n",
    "\n",
    "# print dictionary for feature conversion\n",
    "feature_dict"
   ]
  },
  {
   "cell_type": "code",
   "execution_count": 7,
   "metadata": {},
   "outputs": [],
   "source": [
    "# convert sequences to feature tensors\n",
    "def seq_to_tensor(seq, feature_dict):\n",
    "    # initialize tensor\n",
    "    tensor = []\n",
    "    \n",
    "    # loop through each amino acid in the sequence\n",
    "    for aa in seq:\n",
    "        # get features for amino acid\n",
    "        features = feature_dict[aa]\n",
    "        tensor.append(features)\n",
    "        \n",
    "    return np.array(tensor)\n"
   ]
  },
  {
   "cell_type": "code",
   "execution_count": 8,
   "metadata": {},
   "outputs": [],
   "source": [
    "# use pool to apply conversion function to all sequences\n",
    "with mp.Pool(mp.cpu_count()) as pool:\n",
    "    seq_tensors = pool.map(partial(seq_to_tensor, feature_dict=feature_dict), seqs['sequence'])\n",
    "    names = seqs['name']"
   ]
  },
  {
   "cell_type": "code",
   "execution_count": 9,
   "metadata": {},
   "outputs": [
    {
     "data": {
      "text/plain": [
       "array([171, 172, 173, 174, 175, 176, 177, 178, 179, 180, 181, 182, 183,\n",
       "       184, 185, 186, 187, 188, 189, 190, 191, 192, 193, 194, 195, 196,\n",
       "       197, 198, 199, 200, 201, 202, 203, 204, 205, 206, 207, 208, 209,\n",
       "       210, 211, 212, 213, 214, 215, 216, 217, 218, 219, 220, 221, 222,\n",
       "       223, 224, 225, 226, 227, 228, 229, 230, 231, 232, 233, 234, 235,\n",
       "       236, 237, 238, 239, 240, 241, 242, 243, 244, 245, 246, 247, 248,\n",
       "       249, 250, 251, 252, 253, 254, 255, 256, 257, 258, 259, 260, 261,\n",
       "       262, 263, 264, 265, 266, 267, 268, 269, 270, 271, 272, 273, 274,\n",
       "       275, 276, 277, 278, 279, 280, 281, 282, 283, 284, 285, 286, 287,\n",
       "       288, 289, 290, 291, 292, 293, 294, 295, 296, 297, 298, 299, 300])"
      ]
     },
     "execution_count": 9,
     "metadata": {},
     "output_type": "execute_result"
    }
   ],
   "source": [
    "# check that all sequences are the same length (THEY ARE NOT)\n",
    "np.unique([len(seq) for seq in seq_tensors])"
   ]
  }
 ],
 "metadata": {
  "kernelspec": {
   "display_name": "base",
   "language": "python",
   "name": "python3"
  },
  "language_info": {
   "codemirror_mode": {
    "name": "ipython",
    "version": 3
   },
   "file_extension": ".py",
   "mimetype": "text/x-python",
   "name": "python",
   "nbconvert_exporter": "python",
   "pygments_lexer": "ipython3",
   "version": "3.10.14"
  }
 },
 "nbformat": 4,
 "nbformat_minor": 2
}
