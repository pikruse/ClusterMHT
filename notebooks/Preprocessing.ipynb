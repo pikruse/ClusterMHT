{
 "cells": [
  {
   "cell_type": "code",
   "execution_count": 9,
   "metadata": {},
   "outputs": [],
   "source": [
    "# import packages\n",
    "import os, sys, glob\n",
    "import numpy as np\n",
    "import pandas as pd\n",
    "import multiprocessing as mp\n",
    "\n",
    "from functools import partial\n",
    "\n",
    "sys.path.append('../')"
   ]
  },
  {
   "cell_type": "code",
   "execution_count": 10,
   "metadata": {},
   "outputs": [
    {
     "data": {
      "text/html": [
       "<div>\n",
       "<style scoped>\n",
       "    .dataframe tbody tr th:only-of-type {\n",
       "        vertical-align: middle;\n",
       "    }\n",
       "\n",
       "    .dataframe tbody tr th {\n",
       "        vertical-align: top;\n",
       "    }\n",
       "\n",
       "    .dataframe thead th {\n",
       "        text-align: right;\n",
       "    }\n",
       "</style>\n",
       "<table border=\"1\" class=\"dataframe\">\n",
       "  <thead>\n",
       "    <tr style=\"text-align: right;\">\n",
       "      <th></th>\n",
       "      <th>sequence</th>\n",
       "    </tr>\n",
       "  </thead>\n",
       "  <tbody>\n",
       "    <tr>\n",
       "      <th>0</th>\n",
       "      <td>LQWWTCAYPR</td>\n",
       "    </tr>\n",
       "    <tr>\n",
       "      <th>1</th>\n",
       "      <td>VQWWTCAFPR</td>\n",
       "    </tr>\n",
       "    <tr>\n",
       "      <th>2</th>\n",
       "      <td>VQWWTCAFPR</td>\n",
       "    </tr>\n",
       "    <tr>\n",
       "      <th>3</th>\n",
       "      <td>VQWWTCAFPR</td>\n",
       "    </tr>\n",
       "    <tr>\n",
       "      <th>4</th>\n",
       "      <td>IQWWTCAFPR</td>\n",
       "    </tr>\n",
       "  </tbody>\n",
       "</table>\n",
       "</div>"
      ],
      "text/plain": [
       "     sequence\n",
       "0  LQWWTCAYPR\n",
       "1  VQWWTCAFPR\n",
       "2  VQWWTCAFPR\n",
       "3  VQWWTCAFPR\n",
       "4  IQWWTCAFPR"
      ]
     },
     "execution_count": 10,
     "metadata": {},
     "output_type": "execute_result"
    }
   ],
   "source": [
    "# CHANGE FILE AND PARSE ON TAB\n",
    "# load data such that each row is a sample with one column for name and one for sequence\n",
    "def load_data(filepath):\n",
    "    with open(filepath, 'r') as f:\n",
    "        lines = f.readlines()\n",
    "        seqs = []\n",
    "        for i in range(0, len(lines)):\n",
    "            seqs.append(lines[i].strip())\n",
    "    return pd.DataFrame({'sequence': seqs})\n",
    "\n",
    "seqs = load_data('../data/clustalo-I20240820-222424-0237-19311203-p1m.aln-fasta.oneline.txt.Residue_Columns.txt')\n",
    "seqs.head()"
   ]
  },
  {
   "cell_type": "code",
   "execution_count": 14,
   "metadata": {},
   "outputs": [
    {
     "data": {
      "text/plain": [
       "array([10])"
      ]
     },
     "execution_count": 14,
     "metadata": {},
     "output_type": "execute_result"
    }
   ],
   "source": [
    "# check sequence lengths\n",
    "np.unique(seqs['sequence'].apply(len))"
   ]
  },
  {
   "cell_type": "code",
   "execution_count": 12,
   "metadata": {},
   "outputs": [
    {
     "data": {
      "text/plain": [
       "21"
      ]
     },
     "execution_count": 12,
     "metadata": {},
     "output_type": "execute_result"
    }
   ],
   "source": [
    "# get list of unique amino acids\n",
    "amino_acids = list(set(''.join(seqs['sequence'])))\n",
    "amino_acids.sort()\n",
    "len(amino_acids)"
   ]
  },
  {
   "cell_type": "code",
   "execution_count": 16,
   "metadata": {},
   "outputs": [],
   "source": [
    "# SCORES / FEATURES are subject to change\n",
    "# create a dictionary mapping amino acids to specific features\n",
    "# first, define features we want to include\n",
    "\n",
    "# 1. hydrophobicity (ordinal)\n",
    "hydrophobic = ['A', 'C', 'I', 'L', 'M', 'F', 'V', 'W'] # 0\n",
    "neutral = ['G', 'H', 'P', 'S', 'T', 'Y'] # 1\n",
    "hydrophilic = ['R', 'N', 'D', 'Q', 'E', 'K'] # 2\n",
    "\n",
    "hydrophobicity = {2: hydrophobic, \n",
    "                  1: neutral, \n",
    "                  0: hydrophilic}\n",
    "\n",
    "# 2. volume (ordinal)\n",
    "very_small = ['A', 'G', 'S'] #0\n",
    "small = ['N', 'D', 'C', 'P', 'T'] #1\n",
    "medium = ['Q', 'E', 'H', 'V'] #2\n",
    "large = ['R', 'I', 'L', 'K', 'M'] #3\n",
    "very_large = ['F', 'W', 'Y'] #4\n",
    "\n",
    "volume = {0: very_small, \n",
    "          1: small, \n",
    "          2: medium, \n",
    "          3: large, \n",
    "          4: very_large}\n",
    "\n",
    "# 3. chemical (arbitrary)\n",
    "aliphatic = ['A', 'G', 'I', 'L', 'P', 'V']\n",
    "aromatic = ['F', 'W', 'Y']\n",
    "sulfur = ['C', 'M']\n",
    "hydroxyl = ['S', 'T']\n",
    "basic = ['R', 'H', 'K']\n",
    "acidic = ['D', 'E']\n",
    "amide = ['N', 'Q']\n",
    "\n",
    "chemical = {'aliphatic': aliphatic, \n",
    "            'aromatic': aromatic, \n",
    "            'sulfur': sulfur, \n",
    "            'hydroxyl': hydroxyl, \n",
    "            'basic': basic, \n",
    "            'acidic': acidic, \n",
    "            'amide': amide}\n",
    "\n",
    "# 4. charge (ordinal)\n",
    "positive = ['R', 'H', 'K'] #1\n",
    "negative = ['D', 'E'] #-1\n",
    "uncharged = ['A', 'N', 'C', 'Q', 'G', 'I', 'L', 'M', 'F', 'P', 'S', 'T', 'W', 'Y', 'V'] #0\n",
    "\n",
    "charge = {1: positive, \n",
    "          int(-1): negative, \n",
    "          0: uncharged}\n",
    "\n",
    "# 5. hydrogen donor/acceptor (arbitrary)\n",
    "# MAYBE CHANGE TO BINARY (BOND/NOT)\n",
    "bond = ['R', 'K', 'W', 'D', 'E', 'N', 'Q', 'H', 'S', 'T', 'Y']\n",
    "none = ['A', 'C', 'G', 'I', 'L', 'M', 'F', 'P', 'V']\n",
    "\n",
    "hydrogen = {1: bond,\n",
    "            0: none}\n",
    "\n",
    "# 6. polarity (ordinal)\n",
    "polar = ['R', 'N', 'D', 'Q', 'E', 'H', 'K', 'S', 'T', 'Y'] #1\n",
    "nonpolar = ['A', 'C', 'G', 'I', 'L', 'M', 'F', 'P', 'W', 'V'] #0\n",
    "\n",
    "polarity = {1: polar, \n",
    "            0: nonpolar}\n",
    "\n",
    "# allows us to map amino acids to features, creating a (num_samples, seq_length, num_features) tensor\n",
    "feature_list = [hydrophobicity, volume, chemical, charge, hydrogen, polarity]"
   ]
  },
  {
   "cell_type": "code",
   "execution_count": 19,
   "metadata": {},
   "outputs": [
    {
     "data": {
      "text/plain": [
       "['-',\n",
       " 'A',\n",
       " 'C',\n",
       " 'D',\n",
       " 'E',\n",
       " 'F',\n",
       " 'G',\n",
       " 'H',\n",
       " 'I',\n",
       " 'K',\n",
       " 'L',\n",
       " 'M',\n",
       " 'N',\n",
       " 'P',\n",
       " 'Q',\n",
       " 'R',\n",
       " 'S',\n",
       " 'T',\n",
       " 'V',\n",
       " 'W',\n",
       " 'Y']"
      ]
     },
     "execution_count": 19,
     "metadata": {},
     "output_type": "execute_result"
    }
   ],
   "source": [
    "amino_acids"
   ]
  },
  {
   "cell_type": "code",
   "execution_count": 20,
   "metadata": {},
   "outputs": [
    {
     "data": {
      "text/plain": [
       "{'-': [0, 0, 0, 0, 0, 0],\n",
       " 'A': [2, 0, 'aliphatic', 0, 0, 0],\n",
       " 'C': [2, 1, 'sulfur', 0, 0, 0],\n",
       " 'D': [0, 1, 'acidic', -1, 1, 1],\n",
       " 'E': [0, 2, 'acidic', -1, 1, 1],\n",
       " 'F': [2, 4, 'aromatic', 0, 0, 0],\n",
       " 'G': [1, 0, 'aliphatic', 0, 0, 0],\n",
       " 'H': [1, 2, 'basic', 1, 1, 1],\n",
       " 'I': [2, 3, 'aliphatic', 0, 0, 0],\n",
       " 'K': [0, 3, 'basic', 1, 1, 1],\n",
       " 'L': [2, 3, 'aliphatic', 0, 0, 0],\n",
       " 'M': [2, 3, 'sulfur', 0, 0, 0],\n",
       " 'N': [0, 1, 'amide', 0, 1, 1],\n",
       " 'P': [1, 1, 'aliphatic', 0, 0, 0],\n",
       " 'Q': [0, 2, 'amide', 0, 1, 1],\n",
       " 'R': [0, 3, 'basic', 1, 1, 1],\n",
       " 'S': [1, 0, 'hydroxyl', 0, 1, 1],\n",
       " 'T': [1, 1, 'hydroxyl', 0, 1, 1],\n",
       " 'V': [2, 2, 'aliphatic', 0, 0, 0],\n",
       " 'W': [2, 4, 'aromatic', 0, 1, 0],\n",
       " 'Y': [1, 4, 'aromatic', 0, 1, 1]}"
      ]
     },
     "execution_count": 20,
     "metadata": {},
     "output_type": "execute_result"
    }
   ],
   "source": [
    "# create feature dictionary that contains the properties of each amino acid\n",
    "feature_dict = {}\n",
    "\n",
    "# loop through each amino acid and create a dictionary of features\n",
    "\n",
    "# loop through amino acids\n",
    "for aa in amino_acids:\n",
    "\n",
    "    # '-' is a placeholder for padding - it has no features\n",
    "    if aa == '-':\n",
    "        features = [0, 0, 0, 0, 0, 0]\n",
    "        feature_dict[aa] = features\n",
    "    \n",
    "    else:\n",
    "        # make list of features for each amino acid\n",
    "        features = []\n",
    "\n",
    "        # loop through each feature\n",
    "        for feature in feature_list:\n",
    "\n",
    "            # loop through each key in the feature dictionary\n",
    "            for key, list in feature.items():\n",
    "                if aa in list:\n",
    "                    features.append(key)\n",
    "        feature_dict[aa] = features\n",
    "\n",
    "# print dictionary for feature conversion\n",
    "feature_dict"
   ]
  },
  {
   "cell_type": "code",
   "execution_count": 21,
   "metadata": {},
   "outputs": [],
   "source": [
    "# convert sequences to feature tensors\n",
    "def seq_to_tensor(seq, feature_dict):\n",
    "    # initialize tensor\n",
    "    tensor = []\n",
    "    \n",
    "    # loop through each amino acid in the sequence\n",
    "    for aa in seq:\n",
    "        # get features for amino acid\n",
    "        features = feature_dict[aa]\n",
    "        tensor.append(features)\n",
    "        \n",
    "    return np.array(tensor)\n"
   ]
  },
  {
   "cell_type": "code",
   "execution_count": 23,
   "metadata": {},
   "outputs": [],
   "source": [
    "# use pool to apply conversion function to all sequences\n",
    "with mp.Pool(mp.cpu_count()) as pool:\n",
    "    seq_tensors = pool.map(partial(seq_to_tensor, feature_dict=feature_dict), seqs['sequence'])"
   ]
  },
  {
   "cell_type": "code",
   "execution_count": 26,
   "metadata": {},
   "outputs": [
    {
     "data": {
      "text/plain": [
       "array([10])"
      ]
     },
     "execution_count": 26,
     "metadata": {},
     "output_type": "execute_result"
    }
   ],
   "source": [
    "# check that all sequences are the same length (THEY ARE NOT)\n",
    "np.unique([len(seq) for seq in seq_tensors])"
   ]
  },
  {
   "cell_type": "code",
   "execution_count": 27,
   "metadata": {},
   "outputs": [],
   "source": [
    "# compute some norm between matrices (start with euclidian)``"
   ]
  },
  {
   "cell_type": "code",
   "execution_count": null,
   "metadata": {},
   "outputs": [],
   "source": [
    "# use a clustering method to group sequences based on similarity"
   ]
  }
 ],
 "metadata": {
  "kernelspec": {
   "display_name": "base",
   "language": "python",
   "name": "python3"
  },
  "language_info": {
   "codemirror_mode": {
    "name": "ipython",
    "version": 3
   },
   "file_extension": ".py",
   "mimetype": "text/x-python",
   "name": "python",
   "nbconvert_exporter": "python",
   "pygments_lexer": "ipython3",
   "version": "3.10.14"
  }
 },
 "nbformat": 4,
 "nbformat_minor": 2
}
